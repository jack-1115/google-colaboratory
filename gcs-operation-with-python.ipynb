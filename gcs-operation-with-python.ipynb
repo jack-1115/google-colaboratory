{
  "nbformat": 4,
  "nbformat_minor": 0,
  "metadata": {
    "colab": {
      "provenance": [],
      "authorship_tag": "ABX9TyMdzG9Sj0Q8VmvbRFYLLwHG",
      "include_colab_link": true
    },
    "kernelspec": {
      "name": "python3",
      "display_name": "Python 3"
    },
    "language_info": {
      "name": "python"
    }
  },
  "cells": [
    {
      "cell_type": "markdown",
      "metadata": {
        "id": "view-in-github",
        "colab_type": "text"
      },
      "source": [
        "<a href=\"https://colab.research.google.com/github/jack-1115/google-colaboratory/blob/main/gcs-operation-with-python.ipynb\" target=\"_parent\"><img src=\"https://colab.research.google.com/assets/colab-badge.svg\" alt=\"Open In Colab\"/></a>"
      ]
    },
    {
      "cell_type": "markdown",
      "source": [
        "# Cloud Storageの操作"
      ],
      "metadata": {
        "id": "mB7pNQr95JHI"
      }
    },
    {
      "cell_type": "markdown",
      "source": [
        "## 準備"
      ],
      "metadata": {
        "id": "m-PbimvUKJYP"
      }
    },
    {
      "cell_type": "markdown",
      "source": [
        "### google-cloud-storgeライブラリのインストール"
      ],
      "metadata": {
        "id": "1vei301qYA_4"
      }
    },
    {
      "cell_type": "code",
      "source": [
        "# google-cloud-storgeライブラリのインストール\n",
        "!pip install google-cloud-storage"
      ],
      "metadata": {
        "id": "9dd6gFb-aGBM"
      },
      "execution_count": null,
      "outputs": []
    },
    {
      "cell_type": "markdown",
      "source": [
        "### ファイルのアップロード\n",
        "\n",
        "sample_dataフォルダと同じ階層に、\n",
        "サービスアカウントキーのファイルを`service_account_kye.json'という名称で、\n",
        "任意のpng画像をsample.pngという名称でそれぞれアップロードする。"
      ],
      "metadata": {
        "id": "XLlWeNO9KwY8"
      }
    },
    {
      "cell_type": "markdown",
      "source": [
        "![image.png](data:image/png;base64,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)"
      ],
      "metadata": {
        "id": "gatbeSYqMlVC"
      }
    },
    {
      "cell_type": "markdown",
      "source": [
        "### 環境変数の設定"
      ],
      "metadata": {
        "id": "qpvHmfwuIZ0t"
      }
    },
    {
      "cell_type": "code",
      "source": [
        "# 環境変数の設定\n",
        "import os\n",
        "os.environ['GOOGLE_APPLICATION_CREDENTIALS'] = './service_account_key.json'"
      ],
      "metadata": {
        "id": "wKUAsTsjf31b"
      },
      "execution_count": null,
      "outputs": []
    },
    {
      "cell_type": "code",
      "source": [
        "# クライアントの作成\n",
        "from google.cloud import storage\n",
        "storage_client= storage.Client()"
      ],
      "metadata": {
        "id": "BQXozQM8J9O_"
      },
      "execution_count": null,
      "outputs": []
    },
    {
      "cell_type": "markdown",
      "source": [
        "## バケット操作"
      ],
      "metadata": {
        "id": "gX2fddiZIa4I"
      }
    },
    {
      "cell_type": "code",
      "source": [
        "import datetime\n",
        "\n",
        "timestamp = datetime.datetime.now().strftime(\"%Y%m%d-%H%M%S\")\n",
        "BUCKET_NAME = f\"sample_bucket_{timestamp}\"\n",
        "\n",
        "print(BUCKET_NAME)"
      ],
      "metadata": {
        "id": "FBDjBZDuRpsj"
      },
      "execution_count": null,
      "outputs": []
    },
    {
      "cell_type": "markdown",
      "source": [
        "### バケットの作成"
      ],
      "metadata": {
        "id": "J1DOCYJz5j9-"
      }
    },
    {
      "cell_type": "code",
      "source": [
        "try:\n",
        "  bucket = storage_client.create_bucket(BUCKET_NAME)\n",
        "except Exception as e:\n",
        "  print(e)\n",
        "finally:\n",
        "  bucket = storage_client.get_bucket(BUCKET_NAME)\n",
        "  print(f\"バケット名: {bucket.name}\")"
      ],
      "metadata": {
        "id": "vG4Vf_WifeS6"
      },
      "execution_count": null,
      "outputs": []
    },
    {
      "cell_type": "markdown",
      "source": [
        "### バケットの一覧を取得"
      ],
      "metadata": {
        "id": "vpKAKBmS5px8"
      }
    },
    {
      "cell_type": "code",
      "source": [
        "buckets = storage_client.list_buckets()\n",
        "for bucket in buckets:\n",
        "  print(f\"バケット名: {bucket.name}\")"
      ],
      "metadata": {
        "id": "igxlOdt5UwJ7"
      },
      "execution_count": null,
      "outputs": []
    },
    {
      "cell_type": "markdown",
      "source": [
        "### バケットの削除"
      ],
      "metadata": {
        "id": "izz3-mW75v8Z"
      }
    },
    {
      "cell_type": "code",
      "source": [
        "bucket = storage_client.get_bucket(BUCKET_NAME)\n",
        "\n",
        "bucket.delete()"
      ],
      "metadata": {
        "id": "NeJVO-Nd2UsS"
      },
      "execution_count": null,
      "outputs": []
    },
    {
      "cell_type": "markdown",
      "source": [
        "## ファイル操作"
      ],
      "metadata": {
        "id": "nHaWMvHf3JaS"
      }
    },
    {
      "cell_type": "markdown",
      "source": [
        "### ファイルのアップロード"
      ],
      "metadata": {
        "id": "9Zq_GY3Q6J7p"
      }
    },
    {
      "cell_type": "code",
      "source": [
        "bucket = storage_client.create_bucket(BUCKET_NAME)\n",
        "\n",
        "blob = bucket.blob('cloud_sample.png')\n",
        "blob.upload_from_filename(filename='sample.png')\n",
        "\n",
        "blob = bucket.blob('img/cloud_sample.png')\n",
        "blob.upload_from_filename(filename='sample.png')"
      ],
      "metadata": {
        "id": "pF8BKY5zmpwj"
      },
      "execution_count": null,
      "outputs": []
    },
    {
      "cell_type": "markdown",
      "source": [
        "### ファイルのアップロード（上書きを避ける）"
      ],
      "metadata": {
        "id": "I1guvU1P6NJJ"
      }
    },
    {
      "cell_type": "code",
      "source": [
        "from google.cloud.exceptions import PreconditionFailed\n",
        "\n",
        "bucket = storage_client.get_bucket(BUCKET_NAME)\n",
        "blob = bucket.blob('cloud_sample.png')\n",
        "\n",
        "try:\n",
        "  blob.upload_from_filename(filename='sample.png', if_generation_match=0)\n",
        "except PreconditionFailed  as e:\n",
        "  print(\"cloud_sample.png.pngは既に存在します。\")\n",
        "except Exception as e:\n",
        "  print(e)"
      ],
      "metadata": {
        "id": "VZE1iLdFrpiN"
      },
      "execution_count": null,
      "outputs": []
    },
    {
      "cell_type": "markdown",
      "source": [
        "### ファイルのダウンロード"
      ],
      "metadata": {
        "id": "0cmM46nD6TDC"
      }
    },
    {
      "cell_type": "code",
      "source": [
        "bucket = storage_client.get_bucket(BUCKET_NAME)\n",
        "blob = bucket.blob('cloud_sample.png')\n",
        "\n",
        "blob.download_to_filename(filename=\"sample_downloaded.png\")"
      ],
      "metadata": {
        "id": "POLW5w4wCX2r"
      },
      "execution_count": null,
      "outputs": []
    },
    {
      "cell_type": "markdown",
      "source": [
        "### ファイルの一覧を取得"
      ],
      "metadata": {
        "id": "DSARK8yX6WAH"
      }
    },
    {
      "cell_type": "code",
      "source": [
        "bucket = storage_client.get_bucket(BUCKET_NAME)\n",
        "blobs = bucket.list_blobs()\n",
        "\n",
        "for blob in blobs:\n",
        "  print(f\"オブジェクト名: {blob.name}\")"
      ],
      "metadata": {
        "id": "Mog1KZBZVAha"
      },
      "execution_count": null,
      "outputs": []
    },
    {
      "cell_type": "markdown",
      "source": [
        "### ファイルをコピー"
      ],
      "metadata": {
        "id": "BDDbKeuZ6bLn"
      }
    },
    {
      "cell_type": "code",
      "source": [
        "bucket = storage_client.get_bucket(BUCKET_NAME)\n",
        "blob = bucket.blob('cloud_sample.png')\n",
        "\n",
        "bucket.copy_blob(blob, bucket, 'cloud_sample_copy.png')\n",
        "\n",
        "blobs = bucket.list_blobs()\n",
        "for blob in blobs:\n",
        "  print(f\"オブジェクト名: {blob.name}\")"
      ],
      "metadata": {
        "id": "osiQiCsdVq6A"
      },
      "execution_count": null,
      "outputs": []
    },
    {
      "cell_type": "markdown",
      "source": [
        "### ファイルの削除"
      ],
      "metadata": {
        "id": "qh7oDate6gPH"
      }
    },
    {
      "cell_type": "code",
      "source": [
        "blob = bucket.blob('cloud_sample.png')\n",
        "blob.delete()\n",
        "\n",
        "blobs = bucket.list_blobs()\n",
        "for blob in blobs:\n",
        "  print(f\"オブジェクト名: {blob.name}\")"
      ],
      "metadata": {
        "id": "eCSbQoOzfabM"
      },
      "execution_count": null,
      "outputs": []
    },
    {
      "cell_type": "markdown",
      "source": [
        "## 片付け"
      ],
      "metadata": {
        "id": "9wlN7cR5Bii0"
      }
    },
    {
      "cell_type": "markdown",
      "source": [
        "### バケットをオブジェクトごと削除"
      ],
      "metadata": {
        "id": "-XRX2JYdBvqg"
      }
    },
    {
      "cell_type": "code",
      "source": [
        "bucket = storage_client.get_bucket(BUCKET_NAME)\n",
        "\n",
        "bucket.delete(force=True)"
      ],
      "metadata": {
        "id": "hH_5LXgaBiJy"
      },
      "execution_count": null,
      "outputs": []
    }
  ]
}